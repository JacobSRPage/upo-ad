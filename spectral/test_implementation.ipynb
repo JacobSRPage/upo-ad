{
 "cells": [
  {
   "cell_type": "markdown",
   "metadata": {},
   "source": [
    "Testing functionality of shift reflect and it's implementation in the Newton solve"
   ]
  },
  {
   "cell_type": "code",
   "execution_count": null,
   "metadata": {},
   "outputs": [],
   "source": [
    "from jax.config import config\n",
    "config.update(\"jax_enable_x64\", True)"
   ]
  },
  {
   "cell_type": "code",
   "execution_count": null,
   "metadata": {},
   "outputs": [],
   "source": [
    "import jax.numpy as jnp\n",
    "import jax_cfd.base as cfd\n",
    "\n",
    "import interact_spectral as insp\n",
    "import newton_spectral as nt_sp\n",
    "from time_forward_map_spectral import generate_time_forward_map"
   ]
  },
  {
   "cell_type": "markdown",
   "metadata": {},
   "source": [
    "Configure the flow and generate a realistic initial condition"
   ]
  },
  {
   "cell_type": "code",
   "execution_count": null,
   "metadata": {},
   "outputs": [],
   "source": [
    "Nx = 256\n",
    "Ny = 256\n",
    "L = 2 * jnp.pi\n",
    "\n",
    "Re = 40."
   ]
  },
  {
   "cell_type": "code",
   "execution_count": null,
   "metadata": {},
   "outputs": [],
   "source": [
    "grid = cfd.grids.Grid((Nx, Ny), domain=((0, L), (0, L)))\n",
    "max_velocity = 5. # estimate \n",
    "dt_stable = cfd.equations.stable_time_step(max_velocity, 0.5, 1. / Re, grid) "
   ]
  },
  {
   "cell_type": "code",
   "execution_count": null,
   "metadata": {},
   "outputs": [],
   "source": [
    "burn_in_time_forward_map = generate_time_forward_map(dt_stable, int(50. / dt_stable), grid, 1. / Re)"
   ]
  },
  {
   "cell_type": "code",
   "execution_count": null,
   "metadata": {},
   "outputs": [],
   "source": [
    "import jax\n",
    "v0 = cfd.initial_conditions.filtered_velocity_field(jax.random.PRNGKey(123), grid, max_velocity, 4)\n",
    "vorticity0 = cfd.finite_differences.curl_2d(v0).data\n",
    "vorticity0_rft = jnp.fft.rfftn(vorticity0)"
   ]
  },
  {
   "cell_type": "code",
   "execution_count": null,
   "metadata": {},
   "outputs": [],
   "source": [
    "# now get realistic initial condition\n",
    "omega_rft = burn_in_time_forward_map(vorticity0_rft)"
   ]
  },
  {
   "cell_type": "code",
   "execution_count": null,
   "metadata": {},
   "outputs": [],
   "source": [
    "n_shift_reflects = 3\n",
    "omega = jnp.fft.irfftn(omega_rft)\n",
    "omega_shift_reflect = insp.y_shift_reflect(omega, \n",
    "                                           grid, \n",
    "                                           n_shift_reflects)"
   ]
  },
  {
   "cell_type": "code",
   "execution_count": null,
   "metadata": {},
   "outputs": [],
   "source": [
    "import matplotlib.pyplot as plt\n",
    "fig = plt.figure(figsize=(10, 5))\n",
    "\n",
    "ax = fig.add_subplot(1, 2, 1)\n",
    "ax.contourf(omega.T, 101)\n",
    "ax.set_xticks([])\n",
    "ax.set_yticks([])\n",
    "\n",
    "ax = fig.add_subplot(1, 2, 2)\n",
    "ax.contourf(omega_shift_reflect.T, 101)\n",
    "ax.set_xticks([])\n",
    "ax.set_yticks([])\n",
    "\n",
    "fig.tight_layout()"
   ]
  },
  {
   "cell_type": "markdown",
   "metadata": {},
   "source": [
    "Now verify functionality of Newton solver"
   ]
  },
  {
   "cell_type": "code",
   "execution_count": null,
   "metadata": {},
   "outputs": [],
   "source": [
    "newton_solver = nt_sp.rpoSolverSpectral(grid, nmax_hook=10, eps_newt=1e-10)"
   ]
  },
  {
   "cell_type": "code",
   "execution_count": null,
   "metadata": {},
   "outputs": [],
   "source": [
    "initial_guess = nt_sp.poGuessSpectral(omega_rft, 20., 0., n_shift_reflects=1) # testing functionality with n_shift_reflects > 0"
   ]
  },
  {
   "cell_type": "code",
   "execution_count": null,
   "metadata": {},
   "outputs": [],
   "source": [
    "newton_solver.iterate(initial_guess, Re, dt_stable)"
   ]
  },
  {
   "cell_type": "markdown",
   "metadata": {},
   "source": [
    "Now let's load in a solution -- check we can converge it, then try and do some branch continuation"
   ]
  },
  {
   "cell_type": "code",
   "execution_count": null,
   "metadata": {},
   "outputs": [],
   "source": [
    "soln_number = 0\n",
    "upo_file_path = '../../../newton-jax-minimal/newt_minimal_spectral/soln_ars_Re40/soln_array_Re40_' + str(soln_number) + '.npy'\n",
    "meta_file_path = '../../../newton-jax-minimal/newt_minimal_spectral/soln_ars_Re40/soln_meta_Re40_' + str(soln_number) + '.npy'\n",
    "\n",
    "upo_rft = jnp.load(upo_file_path)\n",
    "upo_meta = jnp.load(meta_file_path)"
   ]
  },
  {
   "cell_type": "markdown",
   "metadata": {},
   "source": [
    "Warning! Regular UPO solve will over-write the original guess, using the \"record outcome\" method. "
   ]
  },
  {
   "cell_type": "code",
   "execution_count": null,
   "metadata": {},
   "outputs": [],
   "source": [
    "upo_guess = nt_sp.poGuessSpectral(upo_rft, upo_meta[0], upo_meta[1], n_shift_reflects=0)"
   ]
  },
  {
   "cell_type": "markdown",
   "metadata": {},
   "source": [
    "Converge solution at slightly higher value of $Re$ to start the branch continuation"
   ]
  },
  {
   "cell_type": "code",
   "execution_count": null,
   "metadata": {},
   "outputs": [],
   "source": [
    "Re_new = 40.25\n",
    "upo_perturbed = newton_solver.iterate(upo_guess, Re_new, dt_stable)"
   ]
  },
  {
   "cell_type": "markdown",
   "metadata": {},
   "source": [
    "Re-generate the original guess (overwritten by the above. Need a specific method to do this)"
   ]
  },
  {
   "cell_type": "code",
   "execution_count": null,
   "metadata": {},
   "outputs": [],
   "source": [
    "upo_guess = nt_sp.poGuessSpectral(upo_rft, upo_meta[0], upo_meta[1], n_shift_reflects=0)\n",
    "upo_guess.record_outcome(upo_rft, upo_guess.T_init, upo_guess.shift_init, None, None)"
   ]
  },
  {
   "cell_type": "code",
   "execution_count": null,
   "metadata": {},
   "outputs": [],
   "source": [
    "import importlib\n",
    "importlib.reload(nt_sp)"
   ]
  },
  {
   "cell_type": "code",
   "execution_count": null,
   "metadata": {},
   "outputs": [],
   "source": [
    "branch_continuation_solver = nt_sp.rpoBranchContinuation(grid)"
   ]
  },
  {
   "cell_type": "code",
   "execution_count": 60,
   "metadata": {},
   "outputs": [
    {
     "name": "stdout",
     "output_type": "stream",
     "text": [
      "Unexpected exception formatting exception. Falling back to standard exception\n"
     ]
    },
    {
     "name": "stderr",
     "output_type": "stream",
     "text": [
      "Traceback (most recent call last):\n",
      "  File \"/Users/jpage2/miniconda3/envs/jax_cfd/lib/python3.10/site-packages/IPython/core/interactiveshell.py\", line 3508, in run_code\n",
      "    exec(code_obj, self.user_global_ns, self.user_ns)\n",
      "  File \"/var/folders/0t/c6rdvjkx6msgst60p0y4wg1h0000gn/T/ipykernel_48791/63916131.py\", line 1, in <module>\n",
      "    new_soln, new_Re = branch_continuation_solver.iterate(upo_perturbed, upo_guess, Re_new, Re, dt_stable)\n",
      "  File \"/Users/jpage2/code/DEV/newton-jax-minimal/spectral/newton_spectral.py\", line 524, in iterate\n",
      "  File \"/Users/jpage2/code/DEV/newton-jax-minimal/spectral/arnoldi.py\", line 87, in gmres\n",
      "    basis.add_basis_vector(A_operator)\n",
      "  File \"/Users/jpage2/code/DEV/newton-jax-minimal/spectral/arnoldi.py\", line 30, in add_basis_vector\n",
      "    v = A_operator(self.basis[:, self.n_basis_vec])\n",
      "  File \"/Users/jpage2/code/DEV/newton-jax-minimal/spectral/newton_spectral.py\", line 605, in _timestep_A\n",
      "  File \"/Users/jpage2/code/DEV/newton-jax-minimal/spectral/newton_spectral.py\", line 435, in _timestep_DNS\n",
      "    while newt_new > newt_res:\n",
      "KeyboardInterrupt\n",
      "\n",
      "During handling of the above exception, another exception occurred:\n",
      "\n",
      "Traceback (most recent call last):\n",
      "  File \"/Users/jpage2/miniconda3/envs/jax_cfd/lib/python3.10/site-packages/IPython/core/interactiveshell.py\", line 2105, in showtraceback\n",
      "    stb = self.InteractiveTB.structured_traceback(\n",
      "  File \"/Users/jpage2/miniconda3/envs/jax_cfd/lib/python3.10/site-packages/IPython/core/ultratb.py\", line 1396, in structured_traceback\n",
      "    return FormattedTB.structured_traceback(\n",
      "  File \"/Users/jpage2/miniconda3/envs/jax_cfd/lib/python3.10/site-packages/IPython/core/ultratb.py\", line 1287, in structured_traceback\n",
      "    return VerboseTB.structured_traceback(\n",
      "  File \"/Users/jpage2/miniconda3/envs/jax_cfd/lib/python3.10/site-packages/IPython/core/ultratb.py\", line 1140, in structured_traceback\n",
      "    formatted_exception = self.format_exception_as_a_whole(etype, evalue, etb, number_of_lines_of_context,\n",
      "  File \"/Users/jpage2/miniconda3/envs/jax_cfd/lib/python3.10/site-packages/IPython/core/ultratb.py\", line 1055, in format_exception_as_a_whole\n",
      "    frames.append(self.format_record(record))\n",
      "  File \"/Users/jpage2/miniconda3/envs/jax_cfd/lib/python3.10/site-packages/IPython/core/ultratb.py\", line 955, in format_record\n",
      "    frame_info.lines, Colors, self.has_colors, lvals\n",
      "  File \"/Users/jpage2/miniconda3/envs/jax_cfd/lib/python3.10/site-packages/IPython/core/ultratb.py\", line 778, in lines\n",
      "    return self._sd.lines\n",
      "  File \"/Users/jpage2/miniconda3/envs/jax_cfd/lib/python3.10/site-packages/stack_data/utils.py\", line 144, in cached_property_wrapper\n",
      "    value = obj.__dict__[self.func.__name__] = self.func(obj)\n",
      "  File \"/Users/jpage2/miniconda3/envs/jax_cfd/lib/python3.10/site-packages/stack_data/core.py\", line 734, in lines\n",
      "    pieces = self.included_pieces\n",
      "  File \"/Users/jpage2/miniconda3/envs/jax_cfd/lib/python3.10/site-packages/stack_data/utils.py\", line 144, in cached_property_wrapper\n",
      "    value = obj.__dict__[self.func.__name__] = self.func(obj)\n",
      "  File \"/Users/jpage2/miniconda3/envs/jax_cfd/lib/python3.10/site-packages/stack_data/core.py\", line 681, in included_pieces\n",
      "    pos = scope_pieces.index(self.executing_piece)\n",
      "  File \"/Users/jpage2/miniconda3/envs/jax_cfd/lib/python3.10/site-packages/stack_data/utils.py\", line 144, in cached_property_wrapper\n",
      "    value = obj.__dict__[self.func.__name__] = self.func(obj)\n",
      "  File \"/Users/jpage2/miniconda3/envs/jax_cfd/lib/python3.10/site-packages/stack_data/core.py\", line 660, in executing_piece\n",
      "    return only(\n",
      "  File \"/Users/jpage2/miniconda3/envs/jax_cfd/lib/python3.10/site-packages/executing/executing.py\", line 190, in only\n",
      "    raise NotOneValueFound('Expected one value, found 0')\n",
      "executing.executing.NotOneValueFound: Expected one value, found 0\n"
     ]
    }
   ],
   "source": [
    "new_soln, new_Re = branch_continuation_solver.iterate(upo_perturbed, upo_guess, Re_new, Re, dt_stable)"
   ]
  },
  {
   "cell_type": "code",
   "execution_count": null,
   "metadata": {},
   "outputs": [],
   "source": []
  },
  {
   "cell_type": "code",
   "execution_count": null,
   "metadata": {},
   "outputs": [],
   "source": [
    "new_soln, new_Re = branch_continuation_solver.iterate(upo_perturbed, upo_guess, Re_new, Re, dt_stable)"
   ]
  },
  {
   "cell_type": "code",
   "execution_count": null,
   "metadata": {},
   "outputs": [],
   "source": []
  }
 ],
 "metadata": {
  "kernelspec": {
   "display_name": "jax_cfd",
   "language": "python",
   "name": "python3"
  },
  "language_info": {
   "codemirror_mode": {
    "name": "ipython",
    "version": 3
   },
   "file_extension": ".py",
   "mimetype": "text/x-python",
   "name": "python",
   "nbconvert_exporter": "python",
   "pygments_lexer": "ipython3",
   "version": "3.10.11"
  },
  "orig_nbformat": 4
 },
 "nbformat": 4,
 "nbformat_minor": 2
}
